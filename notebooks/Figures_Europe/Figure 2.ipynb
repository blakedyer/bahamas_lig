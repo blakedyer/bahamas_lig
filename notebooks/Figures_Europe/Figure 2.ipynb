{
 "cells": [
  {
   "cell_type": "markdown",
   "id": "amateur-bulgaria",
   "metadata": {
    "toc": true
   },
   "source": [
    "<h1>Table of Contents<span class=\"tocSkip\"></span></h1>\n",
    "<div class=\"toc\"><ul class=\"toc-item\"><li><span><a href=\"#Load-GIA-model-weights-(LIG)\" data-toc-modified-id=\"Load-GIA-model-weights-(LIG)-1\"><span class=\"toc-item-num\">1&nbsp;&nbsp;</span>Load GIA model weights (LIG)</a></span></li><li><span><a href=\"#Load-data\" data-toc-modified-id=\"Load-data-2\"><span class=\"toc-item-num\">2&nbsp;&nbsp;</span>Load data</a></span></li><li><span><a href=\"#Load-GIA-Models\" data-toc-modified-id=\"Load-GIA-Models-3\"><span class=\"toc-item-num\">3&nbsp;&nbsp;</span>Load GIA Models</a></span></li><li><span><a href=\"#Calculations-for-Figure\" data-toc-modified-id=\"Calculations-for-Figure-4\"><span class=\"toc-item-num\">4&nbsp;&nbsp;</span>Calculations for Figure</a></span></li><li><span><a href=\"#Make-Figure\" data-toc-modified-id=\"Make-Figure-5\"><span class=\"toc-item-num\">5&nbsp;&nbsp;</span>Make Figure</a></span></li></ul></div>"
   ]
  },
  {
   "cell_type": "code",
   "execution_count": 48,
   "id": "rapid-modern",
   "metadata": {},
   "outputs": [],
   "source": [
    "import seaborn as sns\n",
    "from matplotlib import pyplot as plt\n",
    "%matplotlib inline\n",
    "import numpy as np\n",
    "from pathlib import Path\n",
    "PROJECT_ROOT = Path.cwd().parents[1]\n",
    "import pandas as pd\n",
    "from scipy.ndimage import gaussian_filter as gaussian\n",
    "\n",
    "import sys\n",
    "sys.path.append(str(PROJECT_ROOT))\n",
    "from bahamas_lig.config import data_dir\n",
    "from bahamas_lig.config import model_dir\n",
    "from bahamas_lig.utils import get_model_status, load, plot_gmsl_inference, interpolation_functions\n",
    "import matplotlib.gridspec as gridspec\n",
    "from tqdm.notebook import tqdm\n",
    "import os\n",
    "\n",
    "from matplotlib import markers\n",
    "from matplotlib.path import Path\n",
    "import arviz as az\n",
    "import string\n",
    "from scipy.stats import gaussian_kde"
   ]
  },
  {
   "cell_type": "markdown",
   "id": "suffering-fusion",
   "metadata": {},
   "source": [
    "### Load GIA model weights (LIG)"
   ]
  },
  {
   "cell_type": "code",
   "execution_count": 49,
   "id": "surprising-tsunami",
   "metadata": {},
   "outputs": [],
   "source": [
    "year=2023\n",
    "lig_model_dir = PROJECT_ROOT / \"model_outputs/output_glac_w_ice6g\"\n",
    "lig_inference_dir = PROJECT_ROOT / \"model_outputs/\"\n",
    "lig_dataframe = get_model_status(lig_inference_dir,lig_model_dir,year=year)"
   ]
  },
  {
   "cell_type": "markdown",
   "id": "081e14c7",
   "metadata": {},
   "source": [
    "### Load data"
   ]
  },
  {
   "cell_type": "code",
   "execution_count": 50,
   "id": "electronic-creator",
   "metadata": {
    "code_folding": [
     0
    ]
   },
   "outputs": [],
   "source": [
    "def load_data(data_file):\n",
    "\n",
    "    df=pd.read_excel(data_dir/f'raw/{data_file}',header=1)\n",
    "    data = {}\n",
    "    filtered = df[df['Indicative \\nRange (m)']!='(limiting)']\n",
    "    data[\"lon\"] = filtered['Longitude'].dropna().values\n",
    "    data[\"lat\"] = filtered['Latitude'].dropna().values\n",
    "    data[\"age\"] = filtered['Age\\n(ka BP)'].dropna().values\n",
    "    data[\"age_uncertainty\"] = filtered['Age Error\\n(1σ, ka)'].dropna().values\n",
    "    data[\"elevation\"] = filtered['Relative Sea \\nLevel (m)'].dropna().values\n",
    "    data[\"elevation_uncertainty\"] = filtered['RSL Error \\n(1σ, m)'].dropna().values\n",
    "    data[\"type\"] = ['index' for l in filtered['Indicative \\nRange (m)'].dropna()]\n",
    "    data[\"lower_limit\"] = filtered['RSL (m)\\n(limiting min)'].dropna().values\n",
    "    data[\"region\"] = filtered['Region'].dropna().values\n",
    "    #     keys = [mapping_uplift[i] for i in data['region']]\n",
    "    data[\"uplift_rate (per ky)\"] = filtered['uplift rate *** (mean, m/kyr)'].dropna().values\n",
    "    data[\"uplift_rate (per ky)\"] = [a for a in data[\"uplift_rate (per ky)\"] if type(a) == type(2.3)]\n",
    "    data[\"uplift_rate (std)\"] = filtered['uplift rate *** (1σ, m/kyr)'].dropna().values\n",
    "\n",
    "    data=pd.DataFrame.from_dict(data)\n",
    "    # data['elevation'][data['elevation']=='(limiting)']=filtered['RSL (limiting)'].dropna().values\n",
    "    data['elevation']=pd.to_numeric(data['elevation'])\n",
    "    return data.copy()\n",
    "\n",
    "data_file = \"Barnett_EuropeLIG_SuppData_April2023_V2.2.xlsx\"\n",
    "data = load_data(data_file)\n"
   ]
  },
  {
   "cell_type": "markdown",
   "id": "bf705d1b",
   "metadata": {},
   "source": [
    "### Load GIA Models"
   ]
  },
  {
   "cell_type": "code",
   "execution_count": 51,
   "id": "df3745e2",
   "metadata": {
    "code_folding": [
     0,
     31
    ]
   },
   "outputs": [
    {
     "data": {
      "application/vnd.jupyter.widget-view+json": {
       "model_id": "65ffbee3f94141cf81a4e36f21e96046",
       "version_major": 2,
       "version_minor": 0
      },
      "text/plain": [
       "  0%|          | 0/600 [00:00<?, ?it/s]"
      ]
     },
     "metadata": {},
     "output_type": "display_data"
    }
   ],
   "source": [
    "def load_model(name):\n",
    "    output_dir = 'output_glac_w_ice6g/'\n",
    "\n",
    "    lats = pd.read_csv(model_dir / \"lats\", delimiter=\",\", header=None)\n",
    "    lons = pd.read_csv(model_dir / \"lons\", delimiter=\",\", header=None)\n",
    "    directory = model_dir / output_dir\n",
    "#     age = np.arange(115, 131, 1)\n",
    "\n",
    "    extent = [0, 1, 0, 1]\n",
    "    model_dims = [\n",
    "        np.min(lons.values),\n",
    "        np.max(lons.values),\n",
    "        np.min(lats.values),\n",
    "        np.max(lats.values),]\n",
    "\n",
    "    files = np.sort(os.listdir(directory))\n",
    "    files = [f for f in files if 'output' in f]  # ignores non output\n",
    "    \n",
    "    files = [f for f in files if name in f]\n",
    "\n",
    "    rsl = []\n",
    "    age=[]\n",
    "    for i in range(0, len(files)):\n",
    "        rsl.append(\n",
    "        pd.read_csv(\n",
    "            str(directory) + \"/\" + files[i], delimiter=\",\", header=None\n",
    "        ).values\n",
    "        )\n",
    "        age.append(float(files[i].split('ka')[0].split('_')[-1]))\n",
    "    return rsl, age, model_dims\n",
    "\n",
    "def pre_load_models(comp):\n",
    "    models = {}\n",
    "    ages = {}\n",
    "    for m in tqdm(list(comp[comp['posterior_predict']==True].index)):\n",
    "        GIA_MODEL, age, model_dims = load_model(m)\n",
    "        models[m] = GIA_MODEL\n",
    "        ages[m] = age\n",
    "    return models,ages\n",
    "\n",
    "models,ages = pre_load_models(lig_dataframe)"
   ]
  },
  {
   "cell_type": "markdown",
   "id": "63192c51",
   "metadata": {},
   "source": [
    "### Calculations for Figure"
   ]
  },
  {
   "cell_type": "code",
   "execution_count": 52,
   "id": "f503b21b",
   "metadata": {},
   "outputs": [],
   "source": [
    "data['region_cluster']=''\n",
    "data.loc[data['region']=='Jutland','region_cluster']='Jutland'\n",
    "data.loc[data['region']=='Yorkshire','region_cluster']='Central UK'\n",
    "data.loc[data['region']=='Normandy','region_cluster']='Normandy'\n",
    "data.loc[data['region']=='Jersey','region_cluster']='Normandy'\n",
    "data.loc[data['region']=='Sussex','region_cluster']='South UK'\n",
    "data.loc[data['region']=='Isle of Wight','region_cluster']='South UK'\n",
    "data.loc[data['region']=='Cornwall','region_cluster']='South UK'\n",
    "data.loc[data['region']=='Devon','region_cluster']='South UK'\n",
    "data.loc[data['region']=='Wales','region_cluster']='South UK'"
   ]
  },
  {
   "cell_type": "code",
   "execution_count": 53,
   "id": "0d53505c",
   "metadata": {
    "code_folding": [
     1
    ]
   },
   "outputs": [],
   "source": [
    "\n",
    "def align_marker(marker, halign='center', valign='middle',h_adjust=0):\n",
    "    \"\"\"\n",
    "    create markers with specified alignment.\n",
    "\n",
    "    Parameters\n",
    "    ----------\n",
    "\n",
    "    marker : a valid marker specification.\n",
    "      See mpl.markers\n",
    "\n",
    "    halign : string, float {'left', 'center', 'right'}\n",
    "      Specifies the horizontal alignment of the marker. *float* values\n",
    "      specify the alignment in units of the markersize/2 (0 is 'center',\n",
    "      -1 is 'right', 1 is 'left').\n",
    "\n",
    "    valign : string, float {'top', 'middle', 'bottom'}\n",
    "      Specifies the vertical alignment of the marker. *float* values\n",
    "      specify the alignment in units of the markersize/2 (0 is 'middle',\n",
    "      -1 is 'top', 1 is 'bottom').\n",
    "\n",
    "    Returns\n",
    "    -------\n",
    "\n",
    "    marker_array : numpy.ndarray\n",
    "      A Nx2 array that specifies the marker path relative to the\n",
    "      plot target point at (0, 0).\n",
    "\n",
    "    Notes\n",
    "    -----\n",
    "    The mark_array can be passed directly to ax.plot and ax.scatter, e.g.::\n",
    "\n",
    "        ax.plot(1, 1, marker=align_marker('>', 'left'))\n",
    "\n",
    "    \"\"\"\n",
    "\n",
    "    if isinstance(halign, (str)):\n",
    "        halign = {'right': -1.,\n",
    "                  'middle': 0.,\n",
    "                  'center': 0.,\n",
    "                  'left': 1.,\n",
    "                  'other':h_adjust,\n",
    "                  }[halign]\n",
    "\n",
    "    if isinstance(valign, (str)):\n",
    "        valign = {'top': -1.,\n",
    "                  'middle': 0.,\n",
    "                  'center': 0.,\n",
    "                  'bottom': 1.,\n",
    "                  }[valign]\n",
    "\n",
    "    # Define the base marker\n",
    "    bm = markers.MarkerStyle(marker)\n",
    "\n",
    "    # Get the marker path and apply the marker transform to get the\n",
    "    # actual marker vertices (they should all be in a unit-square\n",
    "    # centered at (0, 0))\n",
    "    m_arr = bm.get_path().transformed(bm.get_transform()).vertices\n",
    "\n",
    "    # Shift the marker vertices for the specified alignment.\n",
    "    m_arr[:, 0] += halign / 2\n",
    "    m_arr[:, 1] += valign / 2\n",
    "\n",
    "    return Path(m_arr, bm.get_path().codes)"
   ]
  },
  {
   "cell_type": "code",
   "execution_count": 54,
   "id": "0ea5f072",
   "metadata": {},
   "outputs": [
    {
     "data": {
      "application/vnd.jupyter.widget-view+json": {
       "model_id": "477d0a9037a7431bb2d7df439a21b5fb",
       "version_major": 2,
       "version_minor": 0
      },
      "text/plain": [
       "  0%|          | 0/600 [00:00<?, ?it/s]"
      ]
     },
     "metadata": {},
     "output_type": "display_data"
    }
   ],
   "source": [
    "\n",
    "model_posterior_dir = str(model_dir)+'/'+str(f'arviz_traces_{year}')\n",
    "model_posterior_list=[o[:-3] for o in os.listdir(model_posterior_dir) if '.nc' in o]    \n",
    "\n",
    "all_traces = {}\n",
    "for f in tqdm(model_posterior_list):\n",
    "    all_traces[f]=az.from_netcdf(model_posterior_dir+'/'+f+'.nc')"
   ]
  },
  {
   "cell_type": "code",
   "execution_count": 55,
   "id": "9c2948e8",
   "metadata": {},
   "outputs": [
    {
     "data": {
      "application/vnd.jupyter.widget-view+json": {
       "model_id": "5df40ea1c66a4288a6619318ad7e3978",
       "version_major": 2,
       "version_minor": 0
      },
      "text/plain": [
       "  0%|          | 0/10000 [00:00<?, ?it/s]"
      ]
     },
     "metadata": {},
     "output_type": "display_data"
    }
   ],
   "source": [
    "iters=10000 #more iterations for smoother posteriors\n",
    "comp = lig_dataframe\n",
    "model_names = list(comp.index)\n",
    "weighted_post_samples =[]\n",
    "for i in tqdm(range(iters)):\n",
    "    choice = np.random.choice(np.arange(len(comp)), 1, p=comp['weight'])\n",
    "    key=comp.index[choice][0]\n",
    "    i=np.random.choice(np.arange(4000),1)\n",
    "    weighted_post_samples.append(all_traces[key].posterior.ages.values.reshape((1,-1,20))[0,i,:].ravel())\n",
    "    \n",
    "weighted_post_samples=np.array(weighted_post_samples)"
   ]
  },
  {
   "cell_type": "code",
   "execution_count": 56,
   "id": "45582048",
   "metadata": {},
   "outputs": [],
   "source": [
    "dt = np.linspace(128,117,1000)\n",
    "\n",
    "lo = np.percentile(weighted_post_samples,2.5,axis=0)\n",
    "hi = np.percentile(weighted_post_samples,97.5,axis=0)\n",
    "lo33 = np.percentile(weighted_post_samples,16,axis=0)\n",
    "hi66 = np.percentile(weighted_post_samples,84,axis=0)\n",
    "most_like = np.zeros_like(lo)\n",
    "\n",
    "for i in range(lo.size):\n",
    "    like_fun = gaussian_kde(weighted_post_samples[:,i])\n",
    "    most_like[i] = dt[np.argmax(like_fun(dt))]"
   ]
  },
  {
   "cell_type": "code",
   "execution_count": 57,
   "id": "7f672e6f",
   "metadata": {},
   "outputs": [],
   "source": [
    "data=data.sort_values(['type'])\n",
    "\n",
    "data['post_age_lo2p5']=lo\n",
    "data['post_age_hi97p5']=hi\n",
    "data['post_age_lo16']=lo33\n",
    "data['post_age_hi84']=hi66\n",
    "data['post_age_max_like']=most_like\n",
    "data['posterior_index']=np.arange(len(data))\n"
   ]
  },
  {
   "cell_type": "code",
   "execution_count": 58,
   "id": "8ebe5ef3",
   "metadata": {},
   "outputs": [],
   "source": [
    "lig_predict_dir = str(lig_inference_dir)+'/'+str(f'pymc3_post_predict_{year}')\n",
    "lig_predict_list=[o[:-4] for o in os.listdir(lig_predict_dir) if '.pkl' in o]"
   ]
  },
  {
   "cell_type": "code",
   "execution_count": 59,
   "id": "4ce95585",
   "metadata": {},
   "outputs": [
    {
     "data": {
      "application/vnd.jupyter.widget-view+json": {
       "model_id": "a6c681c3c399491da2c846b42f9eeb3a",
       "version_major": 2,
       "version_minor": 0
      },
      "text/plain": [
       "  0%|          | 0/600 [00:00<?, ?it/s]"
      ]
     },
     "metadata": {},
     "output_type": "display_data"
    }
   ],
   "source": [
    "preds = {}\n",
    "for f in tqdm(lig_predict_list):\n",
    "    preds[f]=load(lig_predict_dir+'/'+f+'.pkl')"
   ]
  },
  {
   "cell_type": "code",
   "execution_count": 60,
   "id": "371a5b38",
   "metadata": {
    "code_folding": [
     0
    ]
   },
   "outputs": [],
   "source": [
    "def weighted_trace(pred_list, comp, var=\"f_pred\", iters=20000):\n",
    "    weighted_trace =[]\n",
    "    choices = []\n",
    "    \n",
    "    for i in range(iters):\n",
    "        choice = np.random.choice(np.arange(len(comp)), 1, p=comp['weight'])\n",
    "        key=comp.index[choice][0]\n",
    "        choices.append(key)\n",
    "        f_preds = pred_list[key][var]\n",
    "        C=np.random.choice(np.arange(len(f_preds)), 1)\n",
    "        gmsl=f_preds[C].ravel()\n",
    "        weighted_trace.append(gmsl)\n",
    "        \n",
    "    weighted_trace=np.array(weighted_trace)\n",
    "\n",
    "    return weighted_trace,choices"
   ]
  },
  {
   "cell_type": "code",
   "execution_count": 61,
   "id": "c6ee1ef2",
   "metadata": {},
   "outputs": [],
   "source": [
    "gmsl,choices=weighted_trace(preds,lig_dataframe,iters=10000)\n",
    "inferences=[gmsl]\n",
    "X_new = np.linspace(115, 130, 200)[:, np.newaxis]\n",
    "within_LIG = np.logical_and(X_new>=117,X_new<=128)\n",
    "\n",
    "gmsl=np.array([g for g in gmsl if not all(np.isnan(g))])\n",
    "peak_gmsl=np.nanmax(gmsl[:,within_LIG.ravel()],axis=1)\n",
    "maxes=np.argmax(gmsl,axis=1)\n",
    "A=X_new.ravel()[maxes]\n",
    "bandwidth_for_kde=0.1\n",
    "f_size=12\n",
    "\n",
    "sns.set_style(\n",
    "    \"ticks\",\n",
    "    {\n",
    "        \"axes.edgecolor\": \".3\",\n",
    "        \"xtick.color\": \".3\",\n",
    "        \"ytick.color\": \".3\",\n",
    "        \"text.color\": \".3\",\n",
    "        \"axes.facecolor\": \"(.98,.98,.98)\",\n",
    "        \"axes.grid\": True,\n",
    "        \"grid.color\": \".95\",\n",
    "        \"grid.linestyle\": u\"--\",\n",
    "    },\n",
    ")\n",
    "flatui = [\"#D08770\", \"#BF616A\", \"#A3BE8C\", \"#B48EAD\", \"#34495e\", \"#5E81AC\"]\n",
    "cs = sns.color_palette(flatui)\n",
    "\n"
   ]
  },
  {
   "cell_type": "code",
   "execution_count": 62,
   "id": "06d39fc4",
   "metadata": {},
   "outputs": [],
   "source": [
    "inference=gmsl\n",
    "dy = np.linspace(-15,25,200)\n",
    "max_like = np.zeros(X_new.size)\n",
    "for i in range(X_new.size):\n",
    "    time_slice = inference[:,i][~np.isnan(inference[:,i])]\n",
    "    max_like[i]=dy[np.argmax(gaussian_kde(time_slice,bw_method=1)(dy))]\n",
    "max_like = gaussian(max_like,2)"
   ]
  },
  {
   "cell_type": "code",
   "execution_count": 63,
   "id": "f9f91c36",
   "metadata": {},
   "outputs": [],
   "source": [
    "np.savetxt(data_dir/\"processed/gmsl_all.csv\", gmsl, delimiter=\",\")\n",
    "np.savetxt(data_dir/\"processed/time.csv\", X_new.ravel(), delimiter=\",\")\n",
    "np.savetxt(data_dir/\"processed/gmsl_2sig_lo.csv\", np.nanpercentile(inference, 2.5, axis=0), delimiter=\",\")\n",
    "np.savetxt(data_dir/\"processed/gmsl_2sig_hi.csv\", np.nanpercentile(inference, 97.5, axis=0), delimiter=\",\")\n",
    "np.savetxt(data_dir/\"processed/gmsl_1sig_lo.csv\", np.nanpercentile(inference, 32/2, axis=0), delimiter=\",\")\n",
    "np.savetxt(data_dir/\"processed/gmsl_1sig_hi.csv\", np.nanpercentile(inference, 100-32/2, axis=0), delimiter=\",\")\n",
    "np.savetxt(data_dir/\"processed/gmsl_max_like.csv\", max_like, delimiter=\",\")\n",
    "pd.DataFrame(choices).to_csv(data_dir/\"processed/model_pairs.csv\")"
   ]
  },
  {
   "cell_type": "markdown",
   "id": "6c724b78",
   "metadata": {},
   "source": [
    "### Make Figure"
   ]
  },
  {
   "cell_type": "code",
   "execution_count": 64,
   "id": "600a530f",
   "metadata": {
    "code_folding": [
     0
    ]
   },
   "outputs": [],
   "source": [
    "def weighted_rsl_trace(pred_list, comp, lat, lon, uplift_rate, var=\"f_pred\",iters=20000):\n",
    "    model_names = list(comp.index)\n",
    "    weighted_trace =[]\n",
    "    for i in range(iters):\n",
    "        choice = np.random.choice(np.arange(len(comp)), 1, p=comp['weight'])\n",
    "        key=comp.index[choice][0]\n",
    "        f_preds = pred_list[key][var]\n",
    "        C=np.random.choice(np.arange(len(f_preds)), 1)\n",
    "        gmsl=f_preds[C].ravel()\n",
    "        \n",
    "        GIA_MODEL = models[key]\n",
    "        age = ages[key]\n",
    "        \n",
    "        if i == 0:\n",
    "            GIA_MODEL, age, model_dims = load_model(key)\n",
    "            \n",
    "        z_functions = interpolation_functions(\n",
    "            [lat], [lon], GIA_MODEL, age, model_dims\n",
    "        )\n",
    "        \n",
    "        GIA_to_add = z_functions[0](X_new).ravel()\n",
    "        \n",
    "        uplift_to_add = uplift_rate*X_new.ravel()\n",
    "        \n",
    "        weighted_trace.append(GIA_to_add+gmsl+uplift_to_add)\n",
    "    weighted_trace=np.array(weighted_trace)\n",
    "    return weighted_trace\n"
   ]
  },
  {
   "cell_type": "code",
   "execution_count": 65,
   "id": "679d72d4",
   "metadata": {},
   "outputs": [
    {
     "data": {
      "application/vnd.jupyter.widget-view+json": {
       "model_id": "e3b80a1973224bbc84e0571784830a8e",
       "version_major": 2,
       "version_minor": 0
      },
      "text/plain": [
       "  0%|          | 0/3 [00:00<?, ?it/s]"
      ]
     },
     "metadata": {},
     "output_type": "display_data"
    },
    {
     "name": "stderr",
     "output_type": "stream",
     "text": [
      "<ipython-input-65-fd8a17531354>:90: MatplotlibDeprecationWarning: Adding an axes using the same arguments as a previous axes currently reuses the earlier instance.  In a future version, a new instance will always be created and returned.  Meanwhile, this warning can be suppressed, and the future behavior ensured, by passing a unique label to each axes instance.\n",
      "  ax=fig.add_subplot(gs[1, k*4:k*4+4])\n"
     ]
    },
    {
     "data": {
      "image/png": "[encoded data removed]",
      "text/plain": [
       "<Figure size 871.2x475.2 with 4 Axes>"
      ]
     },
     "metadata": {},
     "output_type": "display_data"
    }
   ],
   "source": [
    "X_new = np.linspace(115, 130, 200)[:, np.newaxis]\n",
    "within_LIG = np.logical_and(X_new>115,X_new<130)\n",
    "\n",
    "\n",
    "regions = data['region_cluster'].unique()\n",
    "locs = {}\n",
    "for r in regions:\n",
    "    locs[r]={}\n",
    "    locs[r]['Latitude']=data[data['region_cluster']==r]['lat'].mean()\n",
    "    locs[r]['Longitude']=data[data['region_cluster']==r]['lon'].mean()\n",
    "    locs[r]['uplift_rate (per ky)'] = data[data['region_cluster']==r]['uplift_rate (per ky)'].mean()\n",
    "\n",
    "k=0\n",
    "\n",
    "color_list=[8,6,7]\n",
    "sns.set_context('talk')\n",
    "sns.set_style(\n",
    "    \"ticks\",\n",
    "    {\n",
    "        \"axes.edgecolor\": \".3\",\n",
    "        \"xtick.color\": \".3\",\n",
    "        \"ytick.color\": \".3\",\n",
    "        \"text.color\": \".3\",\n",
    "        \"axes.facecolor\": \"(.98,.98,.98)\",\n",
    "        \"axes.grid\": True,\n",
    "        \"grid.color\": \".95\",\n",
    "        \"grid.linestyle\": u\"--\",\n",
    "    },\n",
    ")\n",
    "f_size=12\n",
    "bandwidth_for_kde=0.05\n",
    "\n",
    "flatui = [\"#D08770\", \"#BF616A\", \"#A3BE8C\", \"#B48EAD\", \"#34495e\", \"#5E81AC\",\"#268bd2\", \"#cb4b16\", \"#002b36\"]\n",
    "cs = sns.color_palette(flatui)\n",
    "\n",
    "letters=list(string.ascii_uppercase)\n",
    "\n",
    "\n",
    "\n",
    "fig = plt.figure(figsize=(11*1.1,6*1.1))\n",
    "gs = gridspec.GridSpec(2, 12)\n",
    "ax1=fig.add_subplot(gs[0, 2:10])\n",
    "\n",
    "plt.plot([],[],'--',c=cs[4],label='95% Envelope')\n",
    "plt.plot([],[],'-',c=cs[4],label='66% Envelope')\n",
    "plt.plot([],[],'-',lw=3,c=cs[4],label='Most likely SL')\n",
    "ax1.legend(loc='best',fontsize=f_size)\n",
    "\n",
    "plot_gmsl_inference(X_new,inferences[0],cs[4],ax1,plot_max_like=True)\n",
    "\n",
    "\n",
    "\n",
    "plt.gca().set_title(\n",
    "    \"a. Last Interglacial GIA Corrected SL\",\n",
    "    fontsize=f_size,\n",
    ")\n",
    "\n",
    "ax1.set_ylim([-3, 17])\n",
    "ax1.set_yticks([-2,0,2,4,6,8,10,12,14,16])\n",
    "ax1.set_yticklabels([-2,0,2,4,6,8,10,12,14,16],fontsize=f_size)\n",
    "ax1.set_xlim([116.9,128.5])\n",
    "ax1.invert_xaxis()\n",
    "ax1.set_xticks(np.arange(128,116,-1))\n",
    "ax1.set_xticklabels(np.arange(128,116,-1),fontsize=f_size)\n",
    "\n",
    "\n",
    "ax1.set_ylabel(\"Sea Level\\n(m above MSL)\", fontsize=f_size)\n",
    "ax1.set_xlabel(\"Age (kya)\",fontsize=f_size)\n",
    "ax1.grid(True,linewidth=1)\n",
    "\n",
    "ax=fig.add_subplot(gs[1, :4])\n",
    "\n",
    "ax.errorbar(\n",
    "    [],\n",
    "    [],\n",
    "    xerr=[],\n",
    "    yerr=[],\n",
    "    linestyle=\"none\",\n",
    "    label=\"index\",mfc=cs[color_list[0]],color=cs[color_list[1]],\n",
    "    marker='o',mec='k',zorder=100,lw=1,markersize=10\n",
    ")\n",
    "\n",
    "\n",
    "hand, labl =ax.get_legend_handles_labels()\n",
    "ax.legend(hand[-2:], labl[-2:],fontsize=15,loc='lower left')\n",
    "\n",
    "for l in tqdm(['Jutland','South UK','Normandy']):\n",
    "    L = locs[l]\n",
    "\n",
    "    ax=fig.add_subplot(gs[1, k*4:k*4+4])\n",
    "    inference_all= weighted_rsl_trace(preds,lig_dataframe,\n",
    "                                      L['Latitude'],L['Longitude'],\n",
    "                                      uplift_rate=L['uplift_rate (per ky)']*0,\n",
    "                                      iters=1000)\n",
    "    \n",
    "\n",
    "    plot_gmsl_inference(X_new[within_LIG],inference_all[:,within_LIG.ravel()],cs[4],ax,False)\n",
    "    filtered = data[data['region_cluster']==l]\n",
    "    \n",
    "    \n",
    "    for j,t in enumerate(data['type'].unique()):\n",
    "        f = filtered[filtered['type']==t]\n",
    "        \n",
    "        xerr = [np.abs(f[\"post_age_max_like\"]-f[\"post_age_lo2p5\"]),np.abs(f[\"post_age_max_like\"]-f[\"post_age_hi97p5\"])]\n",
    "        \n",
    "        yerr = [2*f[\"elevation_uncertainty\"],2*f[\"elevation_uncertainty\"]]\n",
    "        marker='o'\n",
    "        markersize=10\n",
    "        mew=1\n",
    "        adjust=-1*f['uplift_rate (per ky)']*f[\"post_age_max_like\"]\n",
    "        extra_adjust=0\n",
    "        \n",
    "        if (t == 'limiting'):\n",
    "            yerr = [100*f[\"elevation_uncertainty\"],1*f[\"elevation_uncertainty\"].fillna(0)]\n",
    "            yerr = 0\n",
    "            marker=align_marker('$\\downarrow$',valign='top')\n",
    "            markersize=35\n",
    "            mew=0\n",
    "            adjust=1.15-f['uplift_rate (per ky)']*f[\"post_age_max_like\"]\n",
    "            extra_adjust=1.15\n",
    "        \n",
    "        \n",
    "        ax.errorbar(\n",
    "            f[\"post_age_max_like\"],\n",
    "            f[\"elevation\"]+adjust,\n",
    "            xerr=0,\n",
    "            yerr=yerr,\n",
    "            linestyle=\"none\",lw=1,\n",
    "            label=\"Observations\",mfc=cs[color_list[j]],color=cs[color_list[j]],\n",
    "            marker=marker,mec='k',zorder=100,markersize=markersize,mew=mew\n",
    "        )\n",
    "        for item in f.index:\n",
    "            item=f.loc[item,:]\n",
    "            if item['type']=='limiting':\n",
    "                extra_adjust=1.15\n",
    "            else:\n",
    "                extra_adjust=0\n",
    "            like_fun = gaussian_kde(weighted_post_samples[:,item['posterior_index']])\n",
    "            one_lim,two_lim = (np.percentile(like_fun(dt),2.5),np.percentile(like_fun(dt),(100-68)/2))\n",
    "            one_sig = np.ma.masked_where(like_fun(dt)<one_lim,dt)\n",
    "            two_sig = np.ma.masked_where(like_fun(dt)<two_lim,dt)\n",
    "            ax.plot(one_sig,\n",
    "                    np.ones(one_sig.size)*item[\"elevation\"]+\n",
    "                    extra_adjust-item['uplift_rate (per ky)']*item[\"post_age_max_like\"],linestyle='-',alpha=.2,\n",
    "                    lw=3,color=cs[color_list[j]],zorder=98)\n",
    "            ax.plot(two_sig,np.ones(one_sig.size)*item[\"elevation\"]+\n",
    "                    extra_adjust-item['uplift_rate (per ky)']*item[\"post_age_max_like\"],\n",
    "                    linestyle='-',alpha=.5,\n",
    "                    lw=3,color=cs[color_list[j]],zorder=98)\n",
    "    \n",
    "    \n",
    "    ax.set_title(\n",
    "        letters[k+1].lower() +\". RSL in \"+filtered['region_cluster'].values[0],fontsize=f_size)\n",
    "    \n",
    "\n",
    "    if k%3==0:\n",
    "        ax.set_yticks(np.arange(-15,35,5))\n",
    "        ax.set_yticklabels(np.arange(-15,35,5),fontsize=f_size)\n",
    "        ax.set_ylabel(\"Sea Level\\n(m above MSL)\", fontsize=f_size)\n",
    "    else:\n",
    "        ax.set_yticks(np.arange(-15,35,5))\n",
    "        ax.set_yticklabels(np.arange(-15,35,5),fontsize=f_size)\n",
    "    ax.set_ylim([-10, 30])\n",
    "    if k==1:\n",
    "        ax.set_ylim([-10, 10])\n",
    "    if k==2:\n",
    "        ax.set_ylim([-10, 10])\n",
    "    \n",
    "    ax.set_xlim([128.5,114.9])\n",
    "\n",
    "    ax.set_xticks(np.arange(128,114,-2))\n",
    "    ax.set_xticklabels(np.arange(128,114,-2),fontsize=f_size-2)\n",
    "    ax.set_xlabel(\"Age (kya)\",fontsize=f_size)\n",
    "\n",
    "    k+=1\n",
    "    \n",
    "\n",
    "\n",
    "sns.set_style('ticks')\n",
    "sns.set_style(\n",
    "    \"ticks\",\n",
    "    {\n",
    "\n",
    "       'axes.facecolor': 'white'\n",
    "\n",
    "    },\n",
    ")\n",
    "\n",
    "fig.tight_layout(h_pad=1,w_pad=1)"
   ]
  },
  {
   "cell_type": "code",
   "execution_count": 66,
   "id": "585c7fd8",
   "metadata": {},
   "outputs": [],
   "source": [
    "fig.savefig('Figure2.pdf')"
   ]
  },
  {
   "cell_type": "code",
   "execution_count": 67,
   "id": "93ca7aed",
   "metadata": {},
   "outputs": [],
   "source": [
    "data.to_csv(data_dir/'processed/eu_sample_posterior_ages.csv')"
   ]
  },
  {
   "cell_type": "code",
   "execution_count": 68,
   "id": "cd27d85d",
   "metadata": {},
   "outputs": [
    {
     "data": {
      "text/html": [
       "<div>\n",
       "<style scoped>\n",
       "    .dataframe tbody tr th:only-of-type {\n",
       "        vertical-align: middle;\n",
       "    }\n",
       "\n",
       "    .dataframe tbody tr th {\n",
       "        vertical-align: top;\n",
       "    }\n",
       "\n",
       "    .dataframe thead th {\n",
       "        text-align: right;\n",
       "    }\n",
       "</style>\n",
       "<table border=\"1\" class=\"dataframe\">\n",
       "  <thead>\n",
       "    <tr style=\"text-align: right;\">\n",
       "      <th></th>\n",
       "      <th>Lithosphere</th>\n",
       "      <th>UMV</th>\n",
       "      <th>LMV</th>\n",
       "      <th>ice_history</th>\n",
       "      <th>esl_curve</th>\n",
       "      <th>posterior_trace</th>\n",
       "      <th>posterior_predict</th>\n",
       "      <th>weight</th>\n",
       "    </tr>\n",
       "  </thead>\n",
       "  <tbody>\n",
       "    <tr>\n",
       "      <th>output71Cp530_ICE6G_Wael_S</th>\n",
       "      <td>71</td>\n",
       "      <td>5</td>\n",
       "      <td>30</td>\n",
       "      <td>ICE6G</td>\n",
       "      <td>S</td>\n",
       "      <td>True</td>\n",
       "      <td>True</td>\n",
       "      <td>0.057445</td>\n",
       "    </tr>\n",
       "    <tr>\n",
       "      <th>output_new71Cp410_L6G_Glac_Wael_T</th>\n",
       "      <td>71</td>\n",
       "      <td>4</td>\n",
       "      <td>10</td>\n",
       "      <td>L6G</td>\n",
       "      <td>T</td>\n",
       "      <td>True</td>\n",
       "      <td>True</td>\n",
       "      <td>0.055307</td>\n",
       "    </tr>\n",
       "    <tr>\n",
       "      <th>output96Cp510_ICE6G_Wael_S</th>\n",
       "      <td>96</td>\n",
       "      <td>5</td>\n",
       "      <td>10</td>\n",
       "      <td>ICE6G</td>\n",
       "      <td>S</td>\n",
       "      <td>True</td>\n",
       "      <td>True</td>\n",
       "      <td>0.052024</td>\n",
       "    </tr>\n",
       "    <tr>\n",
       "      <th>output96Cp530_ICE6G_Wael_S</th>\n",
       "      <td>96</td>\n",
       "      <td>5</td>\n",
       "      <td>30</td>\n",
       "      <td>ICE6G</td>\n",
       "      <td>S</td>\n",
       "      <td>True</td>\n",
       "      <td>True</td>\n",
       "      <td>0.049907</td>\n",
       "    </tr>\n",
       "    <tr>\n",
       "      <th>output71Cp57_ICE6G_Wael_S</th>\n",
       "      <td>71</td>\n",
       "      <td>5</td>\n",
       "      <td>7</td>\n",
       "      <td>ICE6G</td>\n",
       "      <td>S</td>\n",
       "      <td>True</td>\n",
       "      <td>True</td>\n",
       "      <td>0.036029</td>\n",
       "    </tr>\n",
       "    <tr>\n",
       "      <th>...</th>\n",
       "      <td>...</td>\n",
       "      <td>...</td>\n",
       "      <td>...</td>\n",
       "      <td>...</td>\n",
       "      <td>...</td>\n",
       "      <td>...</td>\n",
       "      <td>...</td>\n",
       "      <td>...</td>\n",
       "    </tr>\n",
       "    <tr>\n",
       "      <th>output48Cp530_ICE6G_Wael_T</th>\n",
       "      <td>48</td>\n",
       "      <td>5</td>\n",
       "      <td>30</td>\n",
       "      <td>ICE6G</td>\n",
       "      <td>T</td>\n",
       "      <td>True</td>\n",
       "      <td>True</td>\n",
       "      <td>0</td>\n",
       "    </tr>\n",
       "    <tr>\n",
       "      <th>output48Cp37_ICE6G_Wael_T</th>\n",
       "      <td>48</td>\n",
       "      <td>3</td>\n",
       "      <td>7</td>\n",
       "      <td>ICE6G</td>\n",
       "      <td>T</td>\n",
       "      <td>True</td>\n",
       "      <td>True</td>\n",
       "      <td>0</td>\n",
       "    </tr>\n",
       "    <tr>\n",
       "      <th>output48Cp33_ICE6G_Wael_T</th>\n",
       "      <td>48</td>\n",
       "      <td>3</td>\n",
       "      <td>3</td>\n",
       "      <td>ICE6G</td>\n",
       "      <td>T</td>\n",
       "      <td>True</td>\n",
       "      <td>True</td>\n",
       "      <td>0</td>\n",
       "    </tr>\n",
       "    <tr>\n",
       "      <th>output48Cp53_ICE6G_Wael_T</th>\n",
       "      <td>48</td>\n",
       "      <td>5</td>\n",
       "      <td>3</td>\n",
       "      <td>ICE6G</td>\n",
       "      <td>T</td>\n",
       "      <td>True</td>\n",
       "      <td>True</td>\n",
       "      <td>0</td>\n",
       "    </tr>\n",
       "    <tr>\n",
       "      <th>output48Cp520_ICE6G_Wael_S</th>\n",
       "      <td>48</td>\n",
       "      <td>5</td>\n",
       "      <td>20</td>\n",
       "      <td>ICE6G</td>\n",
       "      <td>S</td>\n",
       "      <td>True</td>\n",
       "      <td>True</td>\n",
       "      <td>0</td>\n",
       "    </tr>\n",
       "  </tbody>\n",
       "</table>\n",
       "<p>600 rows × 8 columns</p>\n",
       "</div>"
      ],
      "text/plain": [
       "                                  Lithosphere UMV LMV ice_history esl_curve  \\\n",
       "output71Cp530_ICE6G_Wael_S                 71   5  30       ICE6G         S   \n",
       "output_new71Cp410_L6G_Glac_Wael_T          71   4  10         L6G         T   \n",
       "output96Cp510_ICE6G_Wael_S                 96   5  10       ICE6G         S   \n",
       "output96Cp530_ICE6G_Wael_S                 96   5  30       ICE6G         S   \n",
       "output71Cp57_ICE6G_Wael_S                  71   5   7       ICE6G         S   \n",
       "...                                       ...  ..  ..         ...       ...   \n",
       "output48Cp530_ICE6G_Wael_T                 48   5  30       ICE6G         T   \n",
       "output48Cp37_ICE6G_Wael_T                  48   3   7       ICE6G         T   \n",
       "output48Cp33_ICE6G_Wael_T                  48   3   3       ICE6G         T   \n",
       "output48Cp53_ICE6G_Wael_T                  48   5   3       ICE6G         T   \n",
       "output48Cp520_ICE6G_Wael_S                 48   5  20       ICE6G         S   \n",
       "\n",
       "                                  posterior_trace posterior_predict    weight  \n",
       "output71Cp530_ICE6G_Wael_S                   True              True  0.057445  \n",
       "output_new71Cp410_L6G_Glac_Wael_T            True              True  0.055307  \n",
       "output96Cp510_ICE6G_Wael_S                   True              True  0.052024  \n",
       "output96Cp530_ICE6G_Wael_S                   True              True  0.049907  \n",
       "output71Cp57_ICE6G_Wael_S                    True              True  0.036029  \n",
       "...                                           ...               ...       ...  \n",
       "output48Cp530_ICE6G_Wael_T                   True              True         0  \n",
       "output48Cp37_ICE6G_Wael_T                    True              True         0  \n",
       "output48Cp33_ICE6G_Wael_T                    True              True         0  \n",
       "output48Cp53_ICE6G_Wael_T                    True              True         0  \n",
       "output48Cp520_ICE6G_Wael_S                   True              True         0  \n",
       "\n",
       "[600 rows x 8 columns]"
      ]
     },
     "execution_count": 68,
     "metadata": {},
     "output_type": "execute_result"
    }
   ],
   "source": [
    "lig_dataframe.sort_values('weight',ascending=False)"
   ]
  },
  {
   "cell_type": "code",
   "execution_count": null,
   "id": "39a6345d",
   "metadata": {},
   "outputs": [],
   "source": []
  }
 ],
 "metadata": {
  "kernelspec": {
   "display_name": "PyMC3 EU_LIG",
   "language": "python",
   "name": "eu_lig_gmsl"
  },
  "language_info": {
   "codemirror_mode": {
    "name": "ipython",
    "version": 3
   },
   "file_extension": ".py",
   "mimetype": "text/x-python",
   "name": "python",
   "nbconvert_exporter": "python",
   "pygments_lexer": "ipython3",
   "version": "3.9.1"
  },
  "toc": {
   "base_numbering": 1,
   "nav_menu": {},
   "number_sections": true,
   "sideBar": true,
   "skip_h1_title": false,
   "title_cell": "Table of Contents",
   "title_sidebar": "Contents",
   "toc_cell": true,
   "toc_position": {},
   "toc_section_display": true,
   "toc_window_display": false
  }
 },
 "nbformat": 4,
 "nbformat_minor": 5
}
