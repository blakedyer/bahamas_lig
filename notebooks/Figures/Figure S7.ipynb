{
 "cells": [
  {
   "cell_type": "code",
   "execution_count": 1,
   "id": "conservative-watershed",
   "metadata": {},
   "outputs": [],
   "source": [
    "from pathlib import Path\n",
    "PROJECT_ROOT = Path.cwd().parents[1]\n",
    "import sys\n",
    "sys.path.append(str(PROJECT_ROOT))\n",
    "from bahamas_lig.utils import *\n",
    "import seaborn as sns\n",
    "from matplotlib import pyplot as plt\n",
    "%matplotlib inline\n",
    "import numpy as np\n",
    "import matplotlib.gridspec as gridspec\n",
    "import itertools"
   ]
  },
  {
   "cell_type": "code",
   "execution_count": 2,
   "id": "floppy-filter",
   "metadata": {},
   "outputs": [],
   "source": [
    "## Styling\n",
    "sns.set_palette(\"viridis\", n_colors=6)\n",
    "sns.set_style(\n",
    "    \"ticks\",\n",
    "    {\n",
    "        \"axes.edgecolor\": \".3\",\n",
    "        \"xtick.color\": \".3\",\n",
    "        \"ytick.color\": \".3\",\n",
    "        \"text.color\": \".3\",\n",
    "        \"axes.facecolor\": \"(.98,.98,.98)\",\n",
    "        \"axes.grid\": True,\n",
    "        \"grid.color\": \".9\",\n",
    "        \"grid.linestyle\": u\"-.\",\n",
    "    },\n",
    ")\n",
    "sns.set_context(\"talk\")"
   ]
  },
  {
   "cell_type": "markdown",
   "id": "varied-boutique",
   "metadata": {},
   "source": [
    "## Load GIA model weights"
   ]
  },
  {
   "cell_type": "code",
   "execution_count": 3,
   "id": "referenced-shannon",
   "metadata": {},
   "outputs": [],
   "source": [
    "model_dir = PROJECT_ROOT / \"model_outputs/get_GIA/output_Hol_new\"\n",
    "inference_dir = PROJECT_ROOT / \"model_outputs/holocene/\"\n",
    "models_df=get_model_status(inference_dir,model_dir)\n",
    "\n",
    "A=models_df['ice_history'].unique()\n",
    "B=models_df['esl_curve'].unique()\n",
    "C=models_df['Lithosphere'].unique() #ignore 48\n",
    "experiments=list(itertools.product(*[A,B,C]))\n"
   ]
  },
  {
   "cell_type": "code",
   "execution_count": 4,
   "id": "continent-asthma",
   "metadata": {},
   "outputs": [
    {
     "name": "stderr",
     "output_type": "stream",
     "text": [
      "/limestone/jupyter/blake/production/bahamas_lig/bahamas_lig/utils.py:250: UserWarning: This figure includes Axes that are not compatible with tight_layout, so results might be incorrect.\n",
      "  fig.tight_layout()\n",
      "/limestone/jupyter/blake/production/bahamas_lig/bahamas_lig/utils.py:251: UserWarning: This figure includes Axes that are not compatible with tight_layout, so results might be incorrect.\n",
      "  fig.tight_layout(pad=0, w_pad=2, h_pad=-10)\n"
     ]
    },
    {
     "data": {
      "image/png": "[encoded data removed]",
      "text/plain": [
       "<Figure size 432x158.4 with 3 Axes>"
      ]
     },
     "metadata": {},
     "output_type": "display_data"
    }
   ],
   "source": [
    "fig=plot_weights(models_df,experiments,'weight',holocene=True)"
   ]
  },
  {
   "cell_type": "markdown",
   "id": "parental-sally",
   "metadata": {},
   "source": [
    "**Fig. 4.**  Each square represents a single GIA model colored by its weight, whichcan be interpreted as the probability of each model to have generated the Holocenesea level data (among the 48 compared GIA models; data from (42)).  The modelparameters are described by the sub-plot titles and the x and y axes, LMV = lowermantle viscosity, UMV = upper mantle viscosity."
   ]
  }
 ],
 "metadata": {
  "kernelspec": {
   "display_name": "bahamas_lig",
   "language": "python",
   "name": "bahamas_lig"
  },
  "language_info": {
   "codemirror_mode": {
    "name": "ipython",
    "version": 3
   },
   "file_extension": ".py",
   "mimetype": "text/x-python",
   "name": "python",
   "nbconvert_exporter": "python",
   "pygments_lexer": "ipython3",
   "version": "3.8.8"
  },
  "toc": {
   "base_numbering": 1,
   "nav_menu": {},
   "number_sections": false,
   "sideBar": true,
   "skip_h1_title": false,
   "title_cell": "Table of Contents",
   "title_sidebar": "Contents",
   "toc_cell": false,
   "toc_position": {},
   "toc_section_display": true,
   "toc_window_display": false
  }
 },
 "nbformat": 4,
 "nbformat_minor": 5
}
